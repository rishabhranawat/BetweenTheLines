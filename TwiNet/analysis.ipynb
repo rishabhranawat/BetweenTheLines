{
 "cells": [
  {
   "cell_type": "code",
   "execution_count": 1,
   "metadata": {
    "collapsed": true
   },
   "outputs": [],
   "source": [
    "import json"
   ]
  },
  {
   "cell_type": "code",
   "execution_count": 2,
   "metadata": {
    "collapsed": true
   },
   "outputs": [],
   "source": [
    "with open(\"mention_tweet.json\") as f:\n",
    "    d = json.load(f)"
   ]
  },
  {
   "cell_type": "code",
   "execution_count": 3,
   "metadata": {
    "collapsed": false
   },
   "outputs": [
    {
     "data": {
      "text/plain": [
       "{'Argentina': [],\n",
       " 'Australia': ['meeting with pm @turnbullmalcolm on eu-australia relations at #unga https://t.co/lh0dljodk6'],\n",
       " 'Austria': ['in vienna to discuss migration along the balkan route &amp; eu-turkey agreement at a summit org. by chancellor @kernchri https://t.co/pcajz5zlqm',\n",
       "  'good phone calls with @minpres rutte &amp; @kernchri this morning as part of my consultations for the #bratislavasummit on the future eu27',\n",
       "  'welcoming austria chancellor christian kern @eucouncil to prepare next #euco and discuss #migrationcrisis, #ukineu https://t.co/jinda9pmaw'],\n",
       " 'Bahrain': [],\n",
       " 'Belgium': ['talks on ceta continue. i still hope belgium will prove a consensus-building champion. as we speak, the summit tomorrow is still possible',\n",
       "  'meeting pm @charlesmichel on #ceta ahead of #euco https://t.co/rfei04dfzi',\n",
       "  'there is still some work needed to address the concerns of belgium but i hope we can move forward with #ceta during our #euco meeting',\n",
       "  'meeting @charlesmichel as part of my consultations ahead of eu27 bratislava meeting https://t.co/t2ijxqjeu9'],\n",
       " 'Brazil': [],\n",
       " 'Cameroon': [],\n",
       " 'Canada': ['important that we remember strategic &amp; geopolitical dimensions of trade agreements with us, canada &amp; japan'],\n",
       " 'Chile': [],\n",
       " 'Colombia': ['colombia merece paz. #nobelpeaceprize homenajea el esfuerzo de mi amigo @juanmansantos con farc y alienta a seguir buscando acuerdo de paz',\n",
       "  'colombia deserves peace. #nobelpeaceprize tribute to my good friend @juanmansantos efforts with farc &amp; encouragement to pursue historic deal'],\n",
       " 'Costa Rica': [],\n",
       " 'Croatia': ['with croatia speaker of parliament @bozopetrov in zagreb. #25rh https://t.co/8by9mareyb',\n",
       "  'meeting president @kolindagk after ceremony for 25th anniversary of recognition of croatia https://t.co/7pgvsuivv6',\n",
       "  'good talks with pm @andrejplenkovic in croatia today https://t.co/z7uwfevqa3',\n",
       "  'meeting new croatia pm @andrejplenkovic ahead of #euco https://t.co/wk1jvcoxds',\n",
       "  'congratulations to @andrejplenkovic for his nomination as croatia pm. looking forward to working with him at euco https://t.co/m5b7oh42td',\n",
       "  'good to see croatia president @kolindagk again and discuss eu and regional affairs incl. migration crisis https://t.co/eqzngpeqhu'],\n",
       " 'Dominican Republic': [],\n",
       " 'Ecuador': [],\n",
       " 'Greece': [],\n",
       " 'Guatemala': [],\n",
       " 'India': [],\n",
       " 'Iran': [],\n",
       " 'Iraq': ['with pm @haideralabadi discussing international support to iraq and progress in fight against daesh. #unga https://t.co/b6ndkudhkh'],\n",
       " 'Israel': [\"eu's letter of condolences to the government and people of israel on the passing of former president shimon peres https://t.co/x6pjsutebs\",\n",
       "  'israel has lost a brave leader and europe a dear friend. my deepest condolences to the family of shimon peres and the people of israel',\n",
       "  'my remarks after meeting @presidentruvi on #middleeast peace process &amp; relations with israel https://t.co/ydjgnjfnoe https://t.co/qy9i2q7vym'],\n",
       " 'Italy': [\"eu supports italy's cooperation with libya. and eu must, will stand by italy in sharing responsibility. #maltasummit\",\n",
       "  'first phone call with new italy pm @paologentiloni on #euco agenda. promising start of close cooperation.',\n",
       "  \"now with italy prime minister @matteorenzi ahead of today's #euco and our informal eu27 meeting tomorrow https://t.co/bpm2y2wrzr\",\n",
       "  'with the western balkan route now closed, next #euco will focus on the return of economic migrants coming from africa to europe via italy',\n",
       "  'stamattina a roma discussione con @matteorenzi sulla sua proposta #migration compact https://t.co/zlv3xkg3jg',\n",
       "  'talks with pm @matteorenzi this morning in rome on his #migration compact https://t.co/ytdnehai4v',\n",
       "  'good debate on the state of the eu with @matteorenzi @junkereu @martinschulz in rome https://t.co/wm6untfrlq',\n",
       "  'my agenda next week: i will meet #japan pm @abeshinzo &amp; #italy pm @matteorenzi &amp; attend #charlemagneprize ceremony: https://t.co/zjuerrlz4w'],\n",
       " 'Japan': ['important that we remember strategic &amp; geopolitical dimensions of trade agreements with us, canada &amp; japan',\n",
       "  'thanks pm @abeshinzo for g7 progress on global challenges as maritime security, migration, russia, trade &amp; economy https://t.co/at8noq9788',\n",
       "  'my remarks to the press heading into the #g7 summit in japan https://t.co/j1bbwsn6ss video: https://t.co/lmmyui25bu https://t.co/seil5sqfhe',\n",
       "  'in japan with @junckereu for #g7 summit. important discussions on common values, migration, foreign policy &amp; economy https://t.co/qfbztkvbar',\n",
       "  'before leaving to japan for the #g7summit, good meeting with presidents @junckereu, draghi &amp; @j_dijsselbloem on #euro area',\n",
       "  'meeting @abeshinzo ahead of #g7 summit to step up global cooperation on #migration, #counter-terrorism &amp; #economy: https://t.co/uph3zalzdr',\n",
       "  'my agenda next week: i will meet #japan pm @abeshinzo &amp; #italy pm @matteorenzi &amp; attend #charlemagneprize ceremony: https://t.co/zjuerrlz4w'],\n",
       " 'Lithuania': ['in vilnius with @grybauskaite_lt  as part of my consultations ahead of eu27 #bratislavasummit https://t.co/4bdoy0pcij'],\n",
       " 'Malaysia': [],\n",
       " 'Mexico': [],\n",
       " 'Netherlands': [],\n",
       " 'Nigeria': [],\n",
       " 'Norway': [],\n",
       " 'Pakistan': [],\n",
       " 'Panama': [],\n",
       " 'Peru': [],\n",
       " 'Poland': ['w warszawie na rozmowie z @premierrp @beataszydlo na temat #bratislavasummit i wspolpracy w gronie ue27 https://t.co/9mizfl9z7r',\n",
       "  'in warsaw for talks on eu27 with @premierrp @beataszydlo ahead of the #bratislavasummit https://t.co/6ozuut2mpk',\n",
       "  'glad to be in warsaw with @barackobama to discuss eu-us cooperation &amp; strengthen trans-atlantic unity https://t.co/crkqy5npog',\n",
       "  'next week i will address @europarl_en on #euco &amp; #eu27 before meeting @barackobama in warsaw ahead of #natosummit: https://t.co/hn8rz3cizp'],\n",
       " 'Portugal': ['in lisbon meeting president marcelo rebelo de sousa of portugal https://t.co/ggqqacdz6p',\n",
       "  'today in portugal with pm costa to continue work on next #euco incl. #migrationcrisis and #ukineu https://t.co/ap5ffruvhg'],\n",
       " 'Russia': ['fighting in eastern ukraine must stop now and ceasefire honoured. russia should use its influence to disengage russian-backed separatists.',\n",
       "  'only together can eu countries be fully independent. disintegration will only result in dependence on usa, russia and china.',\n",
       "  \"good talks with finland's president @niinisto on security, transatlantic relations and russia https://t.co/o7d190ctnp\",\n",
       "  'migration, trade and russia as the major issues to be discussed at euco. my invitation letter to the leaders: https://t.co/b9gcxyoday #euco',\n",
       "  'at #natosummit working dinner seeking good eu-nato cooperation/unity to face challenges in the east incl. russia https://t.co/bpswgtkfo4',\n",
       "  'sanctions on russia continue to be linked to complete implementation of #minskagreements',\n",
       "  'meeting @un sg ban ki-moon to discuss #migrationcrisis, global sustainable development, and relations with russia https://t.co/fsxu3ehiox',\n",
       "  'eu stays the course on russia incl. economic sanctions unchanged as long as minsk agreement not fully implemented',\n",
       "  'in denmark with pm @larsloekke to discuss main challenges of eu such as migration crisis, ukineu, russia and climate https://t.co/j5b1pvwici'],\n",
       " 'Singapore': [],\n",
       " 'Slovenia': ['i just spoke to @mirocerar on the phone as part of my consultations to eu leaders ahead of our eu27 meeting in bratislava'],\n",
       " 'South Africa': [],\n",
       " 'Spain': ['mi más sincera enhorabuena a @marianorajoy por su investidura. espero continuar trabajando estrechamente con él:… https://t.co/cf9i6zapg2',\n",
       "  'my warm congratulations to @marianorajoy on his investiture. i look forward to continuing to work closely with him;… https://t.co/fskfhn2hdj',\n",
       "  'meeting spain pm @marianorajoy ahead of #bratislavasummit to continue consultations with eu leaders on future eu27 https://t.co/nsfeyfqebe'],\n",
       " 'Sweden': [],\n",
       " 'Turkey': ['i will appeal to all 27 leaders to send support to bulgaria to protect its border with turkey #bratislavasummit https://t.co/itowcjpcej',\n",
       "  'our hope and intention is to keep turkey as key partner in all its dimensions',\n",
       "  'how turkey comes out of this crisis and deals with consequences crucial for turkey, wider region and eu-turkey cooperation',\n",
       "  'follow #asem11 summit press conference. will also comment on situation in turkey https://t.co/a8g6jixfm3 https://t.co/q0nqoygujy',\n",
       "  'follow my closing remarks at #asem11 summit. will also comment on situation in turkey https://t.co/a8g6jixfm3',\n",
       "  'last day of #eu2016nl presidency.congratulations to @minpres rutte for the hard work esp. on migration &amp; turkey deal https://t.co/fpdxbinjcu',\n",
       "  'eu stands ready to fulfil its part of eu-turkey deal as long as turkey agrees to play by the rules, and not with the rules',\n",
       "  'turkey made good progress on visa liberalisation. decisions this summer provided turkey meets all agreed benchmarks https://t.co/vk6rxded9t',\n",
       "  'sharp reduction of illegal migrants thanks to cooperating with western balkan countries, turkey &amp; support to refugees in 3rd countries',\n",
       "  'visiting victims of syria war at #nizip refugee camp in turkey https://t.co/gx107iawxz',\n",
       "  'more details on my visit to turkey tomorrow w chancellor #merkel &amp; @timmermanseu   https://t.co/zxq0yaeibv #euturkey #migrationeu #refugees',\n",
       "  'my weekly schedule for next week including a trip to turkey with chancellor angela #merkel &amp; @timmermanseu #euturkey https://t.co/4dxd3m6svv'],\n",
       " 'Ukraine': ['talks with @vgroysman. ukraine making good progress on reforms https://t.co/iwi7zrxhcy',\n",
       "  'next week i will meet with the presidents of azerbaijan, moldova, kosovo &amp; the prime minister of ukraine in brussel… https://t.co/jrumiluymd',\n",
       "  'fighting in eastern ukraine must stop now and ceasefire honoured. russia should use its influence to disengage russian-backed separatists.',\n",
       "  'phone call with pm @vgroysman on continued eu support to ukraine',\n",
       "  'migration, defence policy, ukraine aa/dcfta and economy to be discussed at #euco. #brexit during eu27 dinner: https://t.co/ph3hdcgbn8',\n",
       "  'almost there. visa suspension mechanism dispute over. now the final stretch towards visa free travel for ukraine and georgia.',\n",
       "  \"3 years since euromaidan today. ukraine on right track under president @poroshenko's leadership. eu support remains strong.\",\n",
       "  'eu ready to continue work with @minpres rutte to find good solution to ratify ukraine aa/dcfta in all countries &amp; keep the west united',\n",
       "  'first meeting in brussels with pm @vgroysman of ukraine to discuss reforms, visas &amp; minsk implementation https://t.co/lavqrau7u2',\n",
       "  'my schedule for next week: #asem11 summit in mongolia and a meeting with @vgroysman new ukraine pm https://t.co/xy5qi4of5x'],\n",
       " 'United Kingdom': [],\n",
       " 'United States': ['only working hand in hand can we succeed in handling #refugeecrisis. my speech at @potus #aidrefugees #leaderssummit https://t.co/jj930kohqr',\n",
       "  'watch live my intervention today at the leaders summit to #aidrefugees hosted by @potus https://t.co/ddw1gdk3sl #unga71'],\n",
       " 'Uruguay': [],\n",
       " 'Venezuela': [],\n",
       " 'Yemen': []}"
      ]
     },
     "execution_count": 3,
     "metadata": {},
     "output_type": "execute_result"
    }
   ],
   "source": [
    "d['France']"
   ]
  },
  {
   "cell_type": "code",
   "execution_count": 7,
   "metadata": {
    "collapsed": false
   },
   "outputs": [
    {
     "data": {
      "text/plain": [
       "[\"iran offers provocation after provocation. that's why i welcome president trump's insistence on new sanctions against iran.\",\n",
       " 'iran seeks to conquer the middle east. it threatens europe; it threatens the west; it threatens the world.',\n",
       " 'we face challenges, very clear, from militant islam and especially from iran. iran seeks to annihilate israel. it says so openly.',\n",
       " 'pm: we are also determined to prevent iran from establishing shiite militias, and from arming hezbollah with dangerous weapons aimed at us.',\n",
       " 'we are determined to prevent iran from achieving nuclear weapons and from establishing itself militarily in syria, on the ground, air or sea',\n",
       " 'pm netanyahu: we are also concerned by iran which champions the destruction of israel and also supports 360 degree terror on five continents',\n",
       " \"many arab countries see israel no longer as their enemy, but as their ally against islamist terrorism, militant islam, led by iran or da'esh\",\n",
       " 'pm netanyahu at #unga: israel will not allow the terrorist regime in iran to develop nuclear weapons - not now, not in a decade, not ever.',\n",
       " 'pm netanyahu at #unga: our common enemies are iran and isis. our common goals are security, prosperity and peace.']"
      ]
     },
     "execution_count": 7,
     "metadata": {},
     "output_type": "execute_result"
    }
   ],
   "source": [
    "d['Israel']['Iran']"
   ]
  },
  {
   "cell_type": "code",
   "execution_count": 9,
   "metadata": {
    "collapsed": false
   },
   "outputs": [
    {
     "data": {
      "text/plain": [
       "[]"
      ]
     },
     "execution_count": 9,
     "metadata": {},
     "output_type": "execute_result"
    }
   ],
   "source": [
    "d['France']['Sweden']"
   ]
  },
  {
   "cell_type": "code",
   "execution_count": 10,
   "metadata": {
    "collapsed": false
   },
   "outputs": [
    {
     "data": {
      "text/plain": [
       "['the #niceattack is an attack on innocent people and a threat to our open and democratic sociaty. we stand with france https://t.co/qtdeslw4b1']"
      ]
     },
     "execution_count": 10,
     "metadata": {},
     "output_type": "execute_result"
    }
   ],
   "source": [
    "d['Sweden']['France']"
   ]
  },
  {
   "cell_type": "code",
   "execution_count": 1,
   "metadata": {
    "collapsed": true
   },
   "outputs": [],
   "source": [
    "import pandas as pd"
   ]
  },
  {
   "cell_type": "code",
   "execution_count": 8,
   "metadata": {
    "collapsed": false
   },
   "outputs": [],
   "source": [
    "pd.read_json('mention_data.json').to_csv('both_ways_mentions.csv')"
   ]
  },
  {
   "cell_type": "code",
   "execution_count": null,
   "metadata": {
    "collapsed": true
   },
   "outputs": [],
   "source": []
  }
 ],
 "metadata": {
  "kernelspec": {
   "display_name": "Python 3",
   "language": "python",
   "name": "python3"
  },
  "language_info": {
   "codemirror_mode": {
    "name": "ipython",
    "version": 3
   },
   "file_extension": ".py",
   "mimetype": "text/x-python",
   "name": "python",
   "nbconvert_exporter": "python",
   "pygments_lexer": "ipython3",
   "version": "3.4.4"
  }
 },
 "nbformat": 4,
 "nbformat_minor": 2
}
