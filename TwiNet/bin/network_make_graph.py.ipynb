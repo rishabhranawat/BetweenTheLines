{
 "cells": [
  {
   "cell_type": "code",
   "execution_count": 30,
   "metadata": {
    "collapsed": false
   },
   "outputs": [
    {
     "name": "stderr",
     "output_type": "stream",
     "text": [
      "/Users/rishabh/.virtualenvs/tween/lib/python3.4/site-packages/networkx/drawing/nx_pylab.py:126: MatplotlibDeprecationWarning: pyplot.hold is deprecated.\n",
      "    Future behavior will be consistent with the long-time default:\n",
      "    plot commands add elements without first clearing the\n",
      "    Axes and/or Figure.\n",
      "  b = plt.ishold()\n",
      "/Users/rishabh/.virtualenvs/tween/lib/python3.4/site-packages/networkx/drawing/nx_pylab.py:138: MatplotlibDeprecationWarning: pyplot.hold is deprecated.\n",
      "    Future behavior will be consistent with the long-time default:\n",
      "    plot commands add elements without first clearing the\n",
      "    Axes and/or Figure.\n",
      "  plt.hold(b)\n",
      "/Users/rishabh/.virtualenvs/tween/lib/python3.4/site-packages/matplotlib/__init__.py:917: UserWarning: axes.hold is deprecated. Please remove it from your matplotlibrc and/or style files.\n",
      "  warnings.warn(self.msg_depr_set % key)\n",
      "/Users/rishabh/.virtualenvs/tween/lib/python3.4/site-packages/matplotlib/rcsetup.py:152: UserWarning: axes.hold is deprecated, will be removed in 3.0\n",
      "  warnings.warn(\"axes.hold is deprecated, will be removed in 3.0\")\n"
     ]
    },
    {
     "data": {
      "text/plain": [
       "<matplotlib.figure.Figure at 0x10a7e87b8>"
      ]
     },
     "execution_count": 30,
     "metadata": {},
     "output_type": "execute_result"
    }
   ],
   "source": [
    "try:\n",
    "    import matplotlib.pyplot as plt\n",
    "except:\n",
    "    raise\n",
    "\n",
    "import networkx as nx\n",
    "\n",
    "G=nx.Graph()\n",
    "\n",
    "G.add_node('k')\n",
    "G.add_edge('a','b',weight=10)\n",
    "G.add_edge('a','c',weight=0.2)\n",
    "G.add_edge('c','d',weight=0.1)\n",
    "G.add_edge('c','e',weight=0.7)\n",
    "G.add_edge('c','f',weight=0.9)\n",
    "G.add_edge('a','d',weight=0.3)\n",
    "\n",
    "\n",
    "pos=nx.spring_layout(G) # positions for all nodes\n",
    "\n",
    "edges,weights = zip(*nx.get_edge_attributes(G,'weight').items())\n",
    "\n",
    "pos = nx.spring_layout(G)\n",
    "nx.draw(G, pos, node_color='w', \n",
    "        edgelist=edges, \n",
    "        edge_color=weights, \n",
    "        width=10.0, \n",
    "        edge_cmap=plt.cm.Blues,\n",
    "       with_labels=True)\n",
    "plt.savefig('edges.png')\n",
    "plt.figure(figsize=(100, 100))\n"
   ]
  },
  {
   "cell_type": "code",
   "execution_count": null,
   "metadata": {
    "collapsed": true
   },
   "outputs": [],
   "source": []
  }
 ],
 "metadata": {
  "kernelspec": {
   "display_name": "Python 3",
   "language": "python",
   "name": "python3"
  },
  "language_info": {
   "codemirror_mode": {
    "name": "ipython",
    "version": 3
   },
   "file_extension": ".py",
   "mimetype": "text/x-python",
   "name": "python",
   "nbconvert_exporter": "python",
   "pygments_lexer": "ipython3",
   "version": "3.4.4"
  }
 },
 "nbformat": 4,
 "nbformat_minor": 2
}
