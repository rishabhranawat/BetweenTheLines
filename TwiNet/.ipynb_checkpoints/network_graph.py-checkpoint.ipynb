{
 "cells": [
  {
   "cell_type": "code",
   "execution_count": 11,
   "metadata": {
    "collapsed": false
   },
   "outputs": [],
   "source": [
    "import json\n",
    "import pickle\n",
    "\n",
    "import networkx as nx\n",
    "import matplotlib as mpl\n",
    "import matplotlib.pyplot as plt\n",
    "import pygraphviz as pgv"
   ]
  },
  {
   "cell_type": "code",
   "execution_count": 12,
   "metadata": {
    "collapsed": false
   },
   "outputs": [],
   "source": [
    "with open(\"countries_abb.json\") as g:\n",
    "\tc = json.load(g)\n",
    "g.close()\n",
    "\n",
    "\n",
    "codes = {}\n",
    "for each in c:\n",
    "\tcodes[each[\"name\"]] = each[\"code\"]\n",
    "    \n",
    "with open(\"mention_data.json\") as f:\n",
    "    d = json.load(f)\n",
    "f.close()"
   ]
  },
  {
   "cell_type": "code",
   "execution_count": 13,
   "metadata": {
    "collapsed": false
   },
   "outputs": [],
   "source": [
    "eu_countries = [\"Spain\", \"Slovenia\", \"United Kingdom\", \"Belgium\", \n",
    "            \"Austria\", \"Sweden\", \"Greece\", \"Portugal\", \"France\", \n",
    "             \"Netherlands\", \"Croatia\", \"Lithuania\", \"Poland\",\n",
    "            \"Norway\"]\n",
    "east_countries = [\"United States\", \"Russia\", \n",
    "                  \"Iran\", \"Iraq\", \"Israel\", \"Yemen\", \"Bahrain\"]\n",
    "\n",
    "po_countries = [\"United States\", \"Russia\", \"Pakistan\", \"India\"]\n",
    "\n",
    "countries = []\n",
    "for each in eu_countries:\n",
    "    countries.append(each)\n",
    "\n",
    "d_n = {}\n",
    "for each in countries:\n",
    "    d_n[each] = d[each]\n",
    "d = d_n"
   ]
  },
  {
   "cell_type": "code",
   "execution_count": 18,
   "metadata": {
    "collapsed": false
   },
   "outputs": [],
   "source": [
    "G=nx.Graph()\n",
    "\n",
    "for country, details in d.items():\n",
    "        G.add_node(country)\n",
    "\n",
    "for country, details in d.items():\n",
    "    neigbours = G.neighbors(country)\n",
    "    for c1, v1 in details.items():\n",
    "        if(c1 in countries and v1 > 1):\n",
    "            if(c1 in neigbours):\n",
    "                weight = G.get_edge_data(c1, country)['weight']\n",
    "                G.add_edge(country, c1, weight=v1+weight)\n",
    "            else:\n",
    "                G.add_edge(country, c1, weight=v1)"
   ]
  },
  {
   "cell_type": "code",
   "execution_count": 19,
   "metadata": {
    "collapsed": false
   },
   "outputs": [
    {
     "name": "stderr",
     "output_type": "stream",
     "text": [
      "/Users/rishabh/.virtualenvs/tween/lib/python3.4/site-packages/networkx/drawing/nx_pylab.py:126: MatplotlibDeprecationWarning: pyplot.hold is deprecated.\n",
      "    Future behavior will be consistent with the long-time default:\n",
      "    plot commands add elements without first clearing the\n",
      "    Axes and/or Figure.\n",
      "  b = plt.ishold()\n",
      "/Users/rishabh/.virtualenvs/tween/lib/python3.4/site-packages/networkx/drawing/nx_pylab.py:138: MatplotlibDeprecationWarning: pyplot.hold is deprecated.\n",
      "    Future behavior will be consistent with the long-time default:\n",
      "    plot commands add elements without first clearing the\n",
      "    Axes and/or Figure.\n",
      "  plt.hold(b)\n",
      "/Users/rishabh/.virtualenvs/tween/lib/python3.4/site-packages/matplotlib/__init__.py:917: UserWarning: axes.hold is deprecated. Please remove it from your matplotlibrc and/or style files.\n",
      "  warnings.warn(self.msg_depr_set % key)\n",
      "/Users/rishabh/.virtualenvs/tween/lib/python3.4/site-packages/matplotlib/rcsetup.py:152: UserWarning: axes.hold is deprecated, will be removed in 3.0\n",
      "  warnings.warn(\"axes.hold is deprecated, will be removed in 3.0\")\n"
     ]
    },
    {
     "data": {
      "text/plain": [
       "<matplotlib.figure.Figure at 0x10e9c06a0>"
      ]
     },
     "execution_count": 19,
     "metadata": {},
     "output_type": "execute_result"
    }
   ],
   "source": [
    "pos=nx.spring_layout(G) # positions for all nodes\n",
    "\n",
    "edges,weights = zip(*nx.get_edge_attributes(G,'weight').items())\n",
    "nx.draw(G, pos, node_color='w', \n",
    "        edgelist=edges, \n",
    "        edge_color=weights, \n",
    "        width=5.0, \n",
    "        edge_cmap=plt.cm.Blues,\n",
    "       with_labels=True, font_size=40)\n",
    "\n",
    "plt.savefig('graph_european.png')\n",
    "plt.figure(figsize=(30, 30))"
   ]
  },
  {
   "cell_type": "code",
   "execution_count": 66,
   "metadata": {
    "collapsed": false,
    "scrolled": true
   },
   "outputs": [],
   "source": []
  },
  {
   "cell_type": "code",
   "execution_count": null,
   "metadata": {
    "collapsed": false
   },
   "outputs": [],
   "source": []
  },
  {
   "cell_type": "code",
   "execution_count": null,
   "metadata": {
    "collapsed": true
   },
   "outputs": [],
   "source": []
  }
 ],
 "metadata": {
  "kernelspec": {
   "display_name": "Python 3",
   "language": "python",
   "name": "python3"
  },
  "language_info": {
   "codemirror_mode": {
    "name": "ipython",
    "version": 3
   },
   "file_extension": ".py",
   "mimetype": "text/x-python",
   "name": "python",
   "nbconvert_exporter": "python",
   "pygments_lexer": "ipython3",
   "version": "3.4.4"
  }
 },
 "nbformat": 4,
 "nbformat_minor": 2
}
