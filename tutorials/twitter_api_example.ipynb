{
 "cells": [
  {
   "cell_type": "markdown",
   "metadata": {},
   "source": [
    "#### Twitter API"
   ]
  },
  {
   "cell_type": "raw",
   "metadata": {},
   "source": [
    "You will have to install the tweepy python package.\n",
    "\n",
    "pip install tweepy"
   ]
  },
  {
   "cell_type": "code",
   "execution_count": 5,
   "metadata": {
    "collapsed": true
   },
   "outputs": [],
   "source": [
    "import json\n",
    "import tweepy\n",
    "import sys"
   ]
  },
  {
   "cell_type": "markdown",
   "metadata": {},
   "source": [
    "#### Getting the most recent tweets for a given screen_name"
   ]
  },
  {
   "cell_type": "code",
   "execution_count": 11,
   "metadata": {
    "collapsed": true
   },
   "outputs": [],
   "source": [
    "auth = tweepy.OAuthHandler(\"7ORmqhp1lXxpazSzpTGVVNAv6\", \n",
    "                           \"KXwjMsUcf0cKLIZ94D76GYwJeAhQ2qbUlxp2OnENVDQXIAz3Nh\")\n",
    "auth.set_access_token(\"3530340917-urj3UuRWL6frj2FtdhQjj6v0PpVF0PoJy6hp6og\", \n",
    "                      \"eW9ZyEZID417pFtZDTLwUI95u60TCcict290qxnBIXleE\")\n",
    "api = tweepy.API(auth)"
   ]
  },
  {
   "cell_type": "code",
   "execution_count": 12,
   "metadata": {
    "collapsed": false
   },
   "outputs": [],
   "source": [
    "def get_500_tweets(api, screen_name):\n",
    "    tweets = []\n",
    "    x = api.user_timeline(screen_name, count=200)\n",
    "    old_id = x[-1].id-1\n",
    "    ids = set()\n",
    "    while(len(tweets) <= 500 and len(x) > 0):\n",
    "        for each in x:\n",
    "            if(each.id not in ids):\n",
    "                ids.add(each.id)\n",
    "                tweets.append(each.text)\n",
    "        x = api.user_timeline(screen_name, count=200, max_id=old_id)\n",
    "        if(len(x) > 0):\n",
    "            old_id = x[-1].id-1\n",
    "    return [tweets, old_id]"
   ]
  },
  {
   "cell_type": "code",
   "execution_count": null,
   "metadata": {
    "collapsed": true
   },
   "outputs": [],
   "source": []
  },
  {
   "cell_type": "code",
   "execution_count": null,
   "metadata": {
    "collapsed": true
   },
   "outputs": [],
   "source": []
  }
 ],
 "metadata": {
  "kernelspec": {
   "display_name": "Python 3",
   "language": "python",
   "name": "python3"
  },
  "language_info": {
   "codemirror_mode": {
    "name": "ipython",
    "version": 3
   },
   "file_extension": ".py",
   "mimetype": "text/x-python",
   "name": "python",
   "nbconvert_exporter": "python",
   "pygments_lexer": "ipython3",
   "version": "3.4.4"
  }
 },
 "nbformat": 4,
 "nbformat_minor": 2
}
