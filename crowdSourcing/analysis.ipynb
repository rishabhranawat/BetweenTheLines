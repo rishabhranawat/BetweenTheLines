{
 "cells": [
  {
   "cell_type": "code",
   "execution_count": 23,
   "metadata": {
    "collapsed": true
   },
   "outputs": [],
   "source": [
    "import pandas as pd\n",
    "import json\n",
    "import numpy as np"
   ]
  },
  {
   "cell_type": "code",
   "execution_count": 37,
   "metadata": {
    "collapsed": true
   },
   "outputs": [],
   "source": [
    "def get_average_vec(vecs):\n",
    "    v1_tots = []\n",
    "    v2_tots = []\n",
    "    v3_tots = []\n",
    "    for each_vec in vecs:\n",
    "        v1_tots.append(each_vec[0])\n",
    "        v2_tots.append(each_vec[1])\n",
    "        v3_tots.append(each_vec[2])\n",
    "        \n",
    "    avg_vec = [sum(v1_tots)/len(v1_tots), sum(v2_tots)/len(v2_tots), sum(v3_tots)/len(v3_tots)]\n",
    "    return avg_vec"
   ]
  },
  {
   "cell_type": "code",
   "execution_count": 38,
   "metadata": {
    "collapsed": false
   },
   "outputs": [],
   "source": [
    "def get_vec(file_name):\n",
    "    vecs = []\n",
    "    with open('movie_comments/'+file_name, 'r') as d:\n",
    "        a = d.readline()\n",
    "        while(a):\n",
    "            v = (a.replace(\"\\n\", \"\").split(\",\"))\n",
    "            n = [float(i) for i in v]\n",
    "            vecs.append(n)\n",
    "            a = d.readline()\n",
    "    return get_average_vec(vecs)"
   ]
  },
  {
   "cell_type": "code",
   "execution_count": 39,
   "metadata": {
    "collapsed": false
   },
   "outputs": [
    {
     "name": "stdout",
     "output_type": "stream",
     "text": [
      "[1200.3411764705882, 0.12252941176470591, 4.870588235294117]\n"
     ]
    }
   ],
   "source": [
    "print(get_vec('intersetllar_top_level_comments.txt'))"
   ]
  },
  {
   "cell_type": "code",
   "execution_count": 44,
   "metadata": {
    "collapsed": false
   },
   "outputs": [
    {
     "name": "stdout",
     "output_type": "stream",
     "text": [
      "intersetllar_top_level_comments.txt [1200.3411764705882, 0.12252941176470591, 4.870588235294117]\n",
      "interstellar_top_level_comments.txt [1200.5764705882352, 0.12252941176470591, 4.870588235294117]\n",
      "jason_bourne_top_level_comments.txt [64.78980891719745, 0.12577707006369432, 2.1019108280254777]\n",
      "logan_top_level_comments.txt [1087.8015267175572, 0.13760305343511448, 2.8091603053435112]\n",
      "rouge_one_top_level_comments.txt [215.85987261146497, 0.14378343949044584, 2.178343949044586]\n",
      "star_wars_top_level_comments.txt [398.75, 0.14707432432432438, 2.3716216216216215]\n"
     ]
    }
   ],
   "source": [
    "import os\n",
    "files = os.listdir('movie_comments/')\n",
    "\n",
    "for each in files:\n",
    "    print(each, get_vec(each))"
   ]
  },
  {
   "cell_type": "code",
   "execution_count": null,
   "metadata": {
    "collapsed": false
   },
   "outputs": [],
   "source": []
  },
  {
   "cell_type": "code",
   "execution_count": null,
   "metadata": {
    "collapsed": true
   },
   "outputs": [],
   "source": []
  }
 ],
 "metadata": {
  "kernelspec": {
   "display_name": "Python 3",
   "language": "python",
   "name": "python3"
  },
  "language_info": {
   "codemirror_mode": {
    "name": "ipython",
    "version": 3
   },
   "file_extension": ".py",
   "mimetype": "text/x-python",
   "name": "python",
   "nbconvert_exporter": "python",
   "pygments_lexer": "ipython3",
   "version": "3.4.4"
  }
 },
 "nbformat": 4,
 "nbformat_minor": 2
}
