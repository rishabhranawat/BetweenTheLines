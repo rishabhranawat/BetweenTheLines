{
 "cells": [
  {
   "cell_type": "code",
   "execution_count": 7,
   "metadata": {
    "collapsed": true
   },
   "outputs": [],
   "source": [
    "import praw\n",
    "from sklearn.feature_extraction.text import CountVectorizer\n",
    "from sklearn.feature_extraction.text import TfidfVectorizer"
   ]
  },
  {
   "cell_type": "code",
   "execution_count": 2,
   "metadata": {
    "collapsed": true
   },
   "outputs": [],
   "source": [
    "reddit = praw.Reddit(client_id='eR6bB9c2Juu6mQ',\n",
    "                     client_secret='uW4z9EaCIfFbbexRBS1WpGsHB2s',\n",
    "                     user_agent='my user agent')\n",
    "\n",
    "URL = \"https://www.reddit.com/r/movies/comments/4i35uf/\\\n",
    "official_discussion_captain_america_civil_war/?st=j4w491jj&sh=22ea1167\""
   ]
  },
  {
   "cell_type": "code",
   "execution_count": 16,
   "metadata": {
    "collapsed": true
   },
   "outputs": [],
   "source": [
    "submission = reddit.submission(url=URL)\n",
    "top_level_comments = []\n",
    "for top_level_comment in submission.comments:\n",
    "\ttry: \n",
    "\t\tfor comment in top_level_comment.replies:\n",
    "\t\t\ttop_level_comments.append(comment.body)\n",
    "\texcept: pass"
   ]
  },
  {
   "cell_type": "code",
   "execution_count": 19,
   "metadata": {
    "collapsed": true
   },
   "outputs": [],
   "source": [
    "text_body = top_level_comments[:10]"
   ]
  },
  {
   "cell_type": "code",
   "execution_count": 20,
   "metadata": {
    "collapsed": false
   },
   "outputs": [],
   "source": [
    "cv = CountVectorizer()\n",
    "cv_fit=cv.fit_transform(text_body)"
   ]
  },
  {
   "cell_type": "code",
   "execution_count": 21,
   "metadata": {
    "collapsed": false
   },
   "outputs": [],
   "source": [
    "tfidf = TfidfVectorizer()\n",
    "tfidf_fit = tfidf.fit_transform(text_body)"
   ]
  },
  {
   "cell_type": "code",
   "execution_count": 22,
   "metadata": {
    "collapsed": false
   },
   "outputs": [
    {
     "data": {
      "text/plain": [
       "array([[ 0.        ,  0.27258087,  0.        , ...,  0.27258087,\n",
       "         0.        ,  0.        ],\n",
       "       [ 0.        ,  0.        ,  0.        , ...,  0.        ,\n",
       "         0.        ,  0.        ],\n",
       "       [ 0.        ,  0.        ,  0.08255335, ...,  0.        ,\n",
       "         0.        ,  0.        ],\n",
       "       ..., \n",
       "       [ 0.        ,  0.        ,  0.        , ...,  0.        ,\n",
       "         0.        ,  0.        ],\n",
       "       [ 0.        ,  0.        ,  0.        , ...,  0.        ,\n",
       "         0.        ,  0.        ],\n",
       "       [ 0.        ,  0.        ,  0.        , ...,  0.        ,\n",
       "         0.        ,  0.        ]])"
      ]
     },
     "execution_count": 22,
     "metadata": {},
     "output_type": "execute_result"
    }
   ],
   "source": [
    "tfidf_fit.toarray()"
   ]
  },
  {
   "cell_type": "code",
   "execution_count": 30,
   "metadata": {
    "collapsed": false
   },
   "outputs": [
    {
     "name": "stdout",
     "output_type": "stream",
     "text": [
      "{u'all': 6, u'extents': 44, u'shield': 144, u'just': 87, u'show': 147, u'being': 17, u'able': 2, u'bring': 19, u'bugged': 21, u'hell': 65, u'flashback': 53, u'captain': 25, u'web': 195, u'referring': 132, u'genius': 58, u'with': 202, u'll': 93, u'had': 60, u'to': 177, u'discovering': 34, u'has': 62, u'feats': 47, u'real': 130, u'me': 104, u'someone': 151, u'handle': 61, u'around': 13, u'watching': 193, u'far': 46, u'big': 18, u'material': 102, u'watch': 192, u'exception': 43, u'screenwriting': 136, u'they': 171, u'not': 114, u'him': 68, u'cool': 27, u'loss': 95, u'maybe': 103, u'incredibly': 79, u'like': 92, u'level': 91, u'abed': 1, u'hxilseb': 74, u'this': 173, u'good': 59, u'im2': 75, u'stopped': 158, u'lose': 94, u'imgur': 76, u'vision': 189, u'old': 116, u'deal': 30, u'sequences': 140, u'some': 150, u'spider': 154, u'up': 184, u'jump': 86, u'shit': 145, u'are': 11, u'desperate': 32, u'arm': 12, u'out': 121, u'scale': 134, u'for': 56, u'movie': 109, u'suv': 166, u'miles': 107, u'fortitude': 57, u'appeal': 10, u'disney': 35, u'pepper': 122, u'after': 5, u'power': 128, u'joy': 84, u'weak': 194, u'story': 159, u'others': 120, u'strong': 162, u'super': 164, u'by': 23, u'stage': 156, u'on': 117, u'fantastical': 45, u'of': 115, u'thor': 174, u'soldier': 149, u'action': 3, u'weird': 196, u'makes': 99, u'or': 118, u'first': 52, u'love': 96, u'point': 126, u'suddenly': 163, u'seems': 138, u'scene': 135, u'two': 183, u'improbable': 77, u'tons': 178, u'doesnt': 37, u'wasn': 191, u'tony': 179, u'establish': 42, u'plot': 125, u'use': 185, u'would': 204, u'source': 153, u'three': 175, u'next': 112, u'much': 111, u'too': 180, u'which': 198, u'avengers': 16, u'potts': 127, u'was': 190, u'flat': 54, u'flung': 55, u'superpowers': 165, u'knows': 89, u'mostly': 108, u'that': 167, u'serve': 141, u'but': 22, u'turtleneck': 182, u'craft': 28, u'jpg': 85, u'varying': 186, u'worked': 203, u'crawl': 29, u'he': 64, u'shoot': 146, u'helped': 66, u'kind': 88, u'made': 97, u'adaptations': 4, u'hour': 72, u'these': 170, u'cap': 24, u'budget': 20, u'lesser': 90, u'movies': 110, u'iron': 81, u'many': 101, u'feeling': 48, u'powers': 129, u'something': 152, u'and': 9, u'villains': 188, u'then': 169, u'is': 82, u'fights': 50, u'it': 83, u'doesn': 36, u'an': 8, u'high': 67, u'as': 14, u'his': 69, u'infront': 80, u'have': 63, u'sense': 139, u'hit': 70, u'disappear': 33, u'physical': 124, u'spiderman': 155, u'strength': 161, u'winter': 201, u'no': 113, u'perform': 123, u'make': 98, u'when': 197, u'40': 0, u'tight': 176, u'hot': 71, u'setting': 142, u'film': 51, u'doors': 39, u'you': 205, u'really': 131, u'elements': 40, u'http': 73, u'stop': 157, u'who': 199, u'streets': 160, u'sheets': 143, u'scripts': 137, u'rolling': 133, u'america': 7, u'totally': 181, u'why': 200, u'man': 100, u'in': 78, u'especially': 41, u'mention': 105, u'com': 26, u'vehicles': 187, u'metal': 106, u'dog': 38, u'fighting': 49, u'think': 172, u'definitely': 31, u'so': 148, u'at': 15, u'the': 168, u'order': 119}\n"
     ]
    }
   ],
   "source": [
    "print(cv.vocabulary_)"
   ]
  },
  {
   "cell_type": "code",
   "execution_count": null,
   "metadata": {
    "collapsed": true
   },
   "outputs": [],
   "source": []
  }
 ],
 "metadata": {
  "kernelspec": {
   "display_name": "Python 2",
   "language": "python",
   "name": "python2"
  },
  "language_info": {
   "codemirror_mode": {
    "name": "ipython",
    "version": 2
   },
   "file_extension": ".py",
   "mimetype": "text/x-python",
   "name": "python",
   "nbconvert_exporter": "python",
   "pygments_lexer": "ipython2",
   "version": "2.7.10"
  }
 },
 "nbformat": 4,
 "nbformat_minor": 2
}
